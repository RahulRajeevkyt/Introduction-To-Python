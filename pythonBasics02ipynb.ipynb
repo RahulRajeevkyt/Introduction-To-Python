{
  "nbformat": 4,
  "nbformat_minor": 0,
  "metadata": {
    "colab": {
      "name": "pythonBasics02ipynb",
      "provenance": []
    },
    "kernelspec": {
      "name": "python3",
      "display_name": "Python 3"
    },
    "language_info": {
      "name": "python"
    }
  },
  "cells": [
    {
      "cell_type": "code",
      "execution_count": null,
      "metadata": {
        "id": "lyvrw7D60L8E"
      },
      "outputs": [],
      "source": [
        "x=20"
      ]
    },
    {
      "cell_type": "code",
      "source": [
        "if x>10 :\n",
        "  print(\"x is greater than 10\")"
      ],
      "metadata": {
        "colab": {
          "base_uri": "https://localhost:8080/"
        },
        "id": "FVs-2B7-1ILC",
        "outputId": "8055b6b7-4938-4400-8650-d037efe7bc5f"
      },
      "execution_count": null,
      "outputs": [
        {
          "output_type": "stream",
          "name": "stdout",
          "text": [
            "x is greater than 10\n"
          ]
        }
      ]
    },
    {
      "cell_type": "code",
      "source": [
        "x=20\n",
        "if x>10 :\n",
        "  print (\"x greater than 10\")\n",
        "if x<10 :\n",
        "    print (\"x less than 10\")"
      ],
      "metadata": {
        "colab": {
          "base_uri": "https://localhost:8080/"
        },
        "id": "o3dPwV5g1tmJ",
        "outputId": "bdf91bbe-9f4e-406e-cde1-0d5fd638bb42"
      },
      "execution_count": null,
      "outputs": [
        {
          "output_type": "stream",
          "name": "stdout",
          "text": [
            "x greater than 10\n"
          ]
        }
      ]
    },
    {
      "cell_type": "code",
      "source": [
        "x=10\n",
        "if x>10 :\n",
        "  print ('x greater than 10')\n",
        "if x<10 :\n",
        "  print (\"x less than 10\")  \n",
        "if x==10 :\n",
        "  print (\"x is equal to 10\")"
      ],
      "metadata": {
        "colab": {
          "base_uri": "https://localhost:8080/"
        },
        "id": "qL9xIObs4XNa",
        "outputId": "8aa66d79-d54c-4afb-ca81-fca7eac48fa6"
      },
      "execution_count": null,
      "outputs": [
        {
          "output_type": "stream",
          "name": "stdout",
          "text": [
            "x is equal to 10\n"
          ]
        }
      ]
    },
    {
      "cell_type": "code",
      "source": [
        "x=int(input(\"enter the mark\"))\n",
        "if x>=100 :\n",
        "  print (\"pass\")\n",
        "if x<100 :\n",
        "  print (\"fail\")\n"
      ],
      "metadata": {
        "colab": {
          "base_uri": "https://localhost:8080/"
        },
        "id": "b_SA72BV6aK6",
        "outputId": "cc3a8776-fdef-4b66-e5b3-9aef105698c3"
      },
      "execution_count": 23,
      "outputs": [
        {
          "output_type": "stream",
          "name": "stdout",
          "text": [
            "enter the mark143\n",
            "pass\n"
          ]
        }
      ]
    },
    {
      "cell_type": "code",
      "source": [
        "x=int(input(\"enter the salary\"))\n",
        "if x>=250000 :\n",
        "  print(\"taxable\")\n",
        "  print(x*10/100)\n",
        "if x<250000 :\n",
        "  print(\"no tax\")  "
      ],
      "metadata": {
        "id": "Kpj3zcTH9IhZ",
        "colab": {
          "base_uri": "https://localhost:8080/"
        },
        "outputId": "2782b357-4339-41f2-8f2c-545487a84f1f"
      },
      "execution_count": 27,
      "outputs": [
        {
          "output_type": "stream",
          "name": "stdout",
          "text": [
            "enter the salary300000\n",
            "taxable\n",
            "30000.0\n"
          ]
        }
      ]
    },
    {
      "cell_type": "code",
      "source": [
        ""
      ],
      "metadata": {
        "id": "3sqHoLo_DfTk"
      },
      "execution_count": null,
      "outputs": []
    }
  ]
}